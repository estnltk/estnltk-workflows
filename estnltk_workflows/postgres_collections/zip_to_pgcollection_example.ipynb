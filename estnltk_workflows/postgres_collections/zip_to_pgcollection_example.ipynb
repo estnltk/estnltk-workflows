{
 "cells": [
  {
   "cell_type": "code",
   "execution_count": 1,
   "metadata": {},
   "outputs": [],
   "source": [
    "from zipfile import ZipFile\n",
    "from estnltk.converters import json_to_text\n",
    "\n",
    "\n",
    "def iter_analysed_zip(file):\n",
    "    with ZipFile(file) as inzip:\n",
    "        namelist = inzip.namelist()\n",
    "        for name in namelist:\n",
    "            if not name.endswith('.json'):\n",
    "                continue\n",
    "            with inzip.open(name) as infile:\n",
    "                yield name, json_to_text(infile.read().decode())"
   ]
  },
  {
   "cell_type": "code",
   "execution_count": 2,
   "metadata": {},
   "outputs": [],
   "source": [
    "from estnltk.storage import PostgresStorage\n",
    "from collections import OrderedDict\n",
    "\n",
    "\n",
    "# ~/.pgpass file format: hostname:port:database:username:password\n",
    "storage = PostgresStorage(schema='public', pgpass_file='~/.pgpass')\n",
    "\n",
    "meta = OrderedDict([('file', 'str'),\n",
    "                    ('subcorpus', 'str'),\n",
    "                    ('title', 'str'),\n",
    "                    ('type', 'str')])\n",
    "\n",
    "collection = storage.get_collection('analysed50', meta)\n",
    "collection.create()"
   ]
  },
  {
   "cell_type": "code",
   "execution_count": 3,
   "metadata": {},
   "outputs": [],
   "source": [
    "for file, text in iter_analysed_zip('koond_analysed_json_50.zip'):\n",
    "    meta = {**text.meta, 'file': file}\n",
    "    collection.insert(text, meta=meta)"
   ]
  },
  {
   "cell_type": "code",
   "execution_count": 4,
   "metadata": {},
   "outputs": [],
   "source": [
    "storage.close()"
   ]
  }
 ],
 "metadata": {
  "kernelspec": {
   "display_name": "Python 3",
   "language": "python",
   "name": "python3"
  },
  "language_info": {
   "codemirror_mode": {
    "name": "ipython",
    "version": 3
   },
   "file_extension": ".py",
   "mimetype": "text/x-python",
   "name": "python",
   "nbconvert_exporter": "python",
   "pygments_lexer": "ipython3",
   "version": "3.5.5"
  }
 },
 "nbformat": 4,
 "nbformat_minor": 2
}
