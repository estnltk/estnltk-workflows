{
 "cells": [
  {
   "cell_type": "markdown",
   "metadata": {},
   "source": [
    "## Usage example: NerDiffFinder\n",
    "\n",
    "`NerDiffFinder` helps to find differences between two named entity layers (that have been annotated using a same NE tagset)."
   ]
  },
  {
   "cell_type": "code",
   "execution_count": 1,
   "metadata": {},
   "outputs": [],
   "source": [
    "# Let's import the example document\n",
    "from estnltk.converters import json_to_text\n",
    "text = json_to_text(file='xample_aja_pm_2000_01_26.tasak_053.json')"
   ]
  },
  {
   "cell_type": "code",
   "execution_count": 2,
   "metadata": {},
   "outputs": [
    {
     "data": {
      "text/html": [
       "<table border=\"1\" class=\"dataframe\">\n",
       "  <thead>\n",
       "    <tr style=\"text-align: right;\">\n",
       "      <th>text</th>\n",
       "    </tr>\n",
       "  </thead>\n",
       "  <tbody>\n",
       "    <tr>\n",
       "      <td><div align = \"left\">Berliini müür langes , kuid nüüd lahutab okastraat setosid , kuuleb välisminister Ilves setude tõde</br></br>TOOMAS SILDAM , toomas.sildam@postimees.ee</br></br>Täna nõuab Ain Sarv ( 51 ) välisminister Ilveselt aru , miks riik on setud unustanud , eile koputas ta erinevate firmade ustele , et küsida sponsorabi Põhjamaade rahvamuusika tudengite ja õppejõudude Viljandi kokkutulekule .</br>Toomas Huik</br></br>Täna saabub kauaoodatud küsimise tund , kui Seto Kongressi Vanemate Kogu peavanem Ain Sarv küsib välisminister Toomas Hendrik Ilveselt : “ Härra minister , kas olete valmis oma kodanike õigused jalge alla tallama , et Eesti saaks Schengeni viisaruumi ? ”</br></br>Läbitungiva pilgu ja kaheharulise habemega Ain Sarv ( 51 ) ei küsi seda retooriliselt ajalehe arvamuskülje repliigis , vaid välisministri kabinetis , näost näkku kohtumisel .</br>Ilves soostus Seto Kongressi Vanemate Kogu esinduse vastu võtma , sest suhted Toompea ja setude vahel on sama okkalised nagu sägadega traat , mille Vene piirivalve tõmbas seitse aastat tagasi piki Eesti NSV administratiivpiiri .</br></br>Nimekirjad , millega seitse ja pool tuhat setut kirikupühadel lihtsalt üle piiri Petseri poolele pääses , saadab valitsus paberihuntidele toiduks ning Eesti võimud nõustuvad euroametnikega , kes meilt kagupiiril tavalist viisarezhiimi nõuavad .</br></br>Hääletades Pihkvasse</br></br>Esimest korda nägi 15-aastane Ain Setumaad läbi tiheda udu .</br>Suvel 1963 sõitis ta koolivaheajal õe juurest Elvast pöidlaküüdiga Riiga , sest seal müüdi pöördkondensaatorit - taskuraadio ehitamiseks vajalikku vidinat .</br>Riiast põrutas Ain “ häälega ” Pihkvasse , kuni hommikupoole ööd peatus Aini pöidlaviibutuse peale hele Pobeda .</br></br>“ Riia-Pihkva kiviteel oli nii õudne udu , et juht ja mina keerasime aknad alla , pistsime pead välja ning vaatasime , kas ikka tee peal oleme .</br>Tagant hakkasid järsku paistma võimsad tuled justkui oleks rong tulnud .</br>Oli hoopis tugevate laternatega autobuss , mis meist nagu postist mööda põrutas .</br>Pobeda juht võttis end selle stopptulede kiiluvette , nii jõudsime lõpuks Pihkvasse . ”</br></br>Päevavalges sõitis Ain uuesti läbi Setumaa , Elva poole .</br>Aga oskas üks Tallinna koolipoiss siis näha , et Petseri ümbrus ja sealsed inimesed on erilised ?</br></br>Aini silmad avanesid 1970. aasta tantsupeol .</br>Enne sattus Sarvede pere noorim poeg Henn lugema kuulutust , et orkester vajab torupillimängijaid .</br>Ei Henn ega Ain polnud kordagi torupilli käes hoidnud , aga kaks lugu said selgeks ja tantsupeo rongkäigus plaksutasid tuhanded inimesed neile nagu elukutselistele rahvamuusikutele .</br></br>Ain üllatas siis tuttavaid , kui mõistis Värska tantsumemmede setukeelset juttu , sest Mehkamaal sündinud isa oli pojale õpetanud võro keelt ja Mulgimaalt pärit vanaema mulkide murdesõnu .</br>Värska memmed kutsusid Aini koos torupilliansambli juhi Igor Tõnuristiga külla ning nii nad seisidki 70nda soojal suvel kahekesi setude lauluringis .</br>Voolas veel veidi vett Pihkva järve ja Ain istus juba setude ühe esilauliku Veera Pähnapuu kõrval pingil , üle Põrste küla madalate majade kaikus : “ Laul läts läbi Setomaa , hõpõhelme helinäl . ”</br></br>Detsembris 1970 loodud rahvakunstiansamblis Leegajus laulis Ain setude lugusid Igor Tõnuristi juhatuse all hiljem kümneid , kui mitte sadu kordi .</br>Setumaa oli avastatud !</br></br>“ Meeldis mulle see seto tüdruk , oi , kuidas meeldis , ” tunneb Ain tänini mõnusalt sooja kriipivat käppa südame lähedal , meenutades esimest kohtumist Piibarite ansambli Õiega .</br>“ Tema kaudu ma selle rahva hulka pääsesingi . ”</br></br>Õie tädi Anne ja tädimees Peeter elasid Petserimaal Pööni külas , aga siis enam teid nende talu juurde talviti lahti ei aetud , Anne-Peeter müüsid vana majapidamise ja ostsid uue Rissova külla , päris Petseri-Irboska tee äärde , kuni Peeter suri .</br>Kahe aasta eest kolis Anne venna juurde Eestisse , Oonurme .</br></br>“ Elupäevi polnud tädi Annele aga palju antud .</br>Ta suri koduigatsusest , sest kontrolljoon oli juba vahel ja meie ei saanud enam talle Rissovasse appi käia .</br>Kui praegu tädi Anne vanast majast mööda sõidan , käänab hinge valust tagurpidi . ”</br></br>Ain ei ütle kordagi “ Vene poolel ” või “ lähme üle piiri ” .</br>Ta räägib kontrolljoonest .</br>“ Setomaa on mulle tervik , okastraadiga lõhestatud tervik , ” jutlustab ta oma , Seto Kongressi Vanemate Kogu peavanema tõde .</br></br>Palvekiri Maapäevale</br></br>Aga veel kümme aastat tagasi peatus Utsa järve ääres öine Pihkva kiirbuss , kui Ain ja Õie seisid tee ääres , suur valge silt sõnaga “ Tallinn ” laiali tõmmatud .</br>Petserist ja Pihkvast sõelusid liinibussid Tartusse , Võrru , Põlvasse isegi majanduspiiri algusajal , piibitades Andrus Ööveli sinivormiliste piirikaitsjate esimeste soojakute kohal .</br>“ Veel 1993. aastal käis üks poiss sealtpoolt kontrolljoont Eesti koolis , kuigi pidi juba okastraadi alt läbi pugema , ” mäletab Ain aega , kui piir Setumaa lõplikult pooleks lõikas .</br></br>“ Berliini müür langes , aga Setomaale ehitati samasugune üles , ” muutub Aini hääl metalseks .</br>“ See on nagu Molotovi-Ribbentropi pakti salaprotokoll : ühed Tallinnas ja teised Moskvas otsustasid , et Setomaa keskele ehitatakse müür , setodelt ei küsinud aga keegi . ”</br></br>Juba kevadel 1917 saatsid Petseri linna ja valdade elanikud palvekirja Maapäevale , et Eesti võim nad enda alla võtaks , alustab Ain giidi häälel ajaloolist ekskursiooni .</br>Jah , see oli nii , aga kas ta mõistab , et Setumaa ei saa enam kunagi üheks ?</br></br>“ Mina usun , et saab , ” lükkab Ain tühjakssaanud kohvitassi järsult eemale .</br>“ Kõik impeeriumid pole veel lagunenud . ”</br></br>Tallinlastena pole tema ja Õie kunagi lihtsustatud piiriületajate nimekirjades olnud , kord said küll Seto Kongressi Vanemate Kogu liikmetena tasuta aastase viisa , nüüd peavad sissepääsu Petserimaale ikka enda raha eest ostma .</br>Viimati jätsid 1300 krooni Venemaa saatkonda päris jaanuari alguses , kui sõitsid kaheks päevaks Petseri Eesti keskkooli , setude jõulupeole .</br>Kakssada inimest siit- ja sealtpoolt piiri rääkisid ilusas setu keeles , koor laulis , järjepanu astusid pillimehed üles .</br></br>“ Üks aastane viisa maksab 4000 krooni .</br>Kes seda jõuab osta , et sugulaste juures , kirikus või omaste haudadel käia , kui nimekirjadega enam üle ei pääse ? ” küsib Ain karmil toonil , kuigi kohvikus ei istu ühtegi poliitikut või kõrget riigiametnikku .</br>“ Eestil on kohustus oma kodanike eest seista ja Tartu rahulepingu järgi on Petserimaa Eesti osa , ” laksab Aini käsi lauale .</br></br>Teist tõde pole talle antud .</div></td>\n",
       "    </tr>\n",
       "  </tbody>\n",
       "</table>\n",
       "<h4>Metadata</h4>\n",
       "<table border=\"1\" class=\"dataframe\">\n",
       "  <tbody>\n",
       "    <tr>\n",
       "      <td>_fname</td>\n",
       "      <td>aja_pm_2000_01_26.tasak_053.json</td>\n",
       "    </tr>\n",
       "    <tr>\n",
       "      <td>ajalehenumber</td>\n",
       "      <td>Postimees 2000.01.26</td>\n",
       "    </tr>\n",
       "    <tr>\n",
       "      <td>alamrubriik</td>\n",
       "      <td></td>\n",
       "    </tr>\n",
       "    <tr>\n",
       "      <td>alaosa</td>\n",
       "      <td>Põhileht</td>\n",
       "    </tr>\n",
       "    <tr>\n",
       "      <td>author</td>\n",
       "      <td>TOOMAS SILDAM , toomas.sildam@postimees.ee</td>\n",
       "    </tr>\n",
       "    <tr>\n",
       "      <td>rubriik</td>\n",
       "      <td>Uudised</td>\n",
       "    </tr>\n",
       "    <tr>\n",
       "      <td>title</td>\n",
       "      <td>Ain Sarve tõde on üks ja jagamatu Setomaa</td>\n",
       "    </tr>\n",
       "    <tr>\n",
       "      <td>type</td>\n",
       "      <td>artikkel</td>\n",
       "    </tr>\n",
       "  </tbody>\n",
       "</table>\n",
       "<table border=\"1\" class=\"dataframe\">\n",
       "  <thead>\n",
       "    <tr style=\"text-align: right;\">\n",
       "      <th>layer name</th>\n",
       "      <th>attributes</th>\n",
       "      <th>parent</th>\n",
       "      <th>enveloping</th>\n",
       "      <th>ambiguous</th>\n",
       "      <th>span count</th>\n",
       "    </tr>\n",
       "  </thead>\n",
       "  <tbody>\n",
       "    <tr>\n",
       "      <td>sentences</td>\n",
       "      <td></td>\n",
       "      <td>None</td>\n",
       "      <td>words</td>\n",
       "      <td>False</td>\n",
       "      <td>53</td>\n",
       "    </tr>\n",
       "    <tr>\n",
       "      <td>words</td>\n",
       "      <td>normalized_form</td>\n",
       "      <td>None</td>\n",
       "      <td>None</td>\n",
       "      <td>False</td>\n",
       "      <td>1019</td>\n",
       "    </tr>\n",
       "    <tr>\n",
       "      <td>morph_analysis</td>\n",
       "      <td>normalized_text, lemma, root, root_tokens, ending, clitic, form, partofspeech</td>\n",
       "      <td>words</td>\n",
       "      <td>None</td>\n",
       "      <td>True</td>\n",
       "      <td>1019</td>\n",
       "    </tr>\n",
       "    <tr>\n",
       "      <td>new_named_entities</td>\n",
       "      <td>nertag</td>\n",
       "      <td>None</td>\n",
       "      <td>words</td>\n",
       "      <td>False</td>\n",
       "      <td>106</td>\n",
       "    </tr>\n",
       "    <tr>\n",
       "      <td>old_named_entities</td>\n",
       "      <td>nertag</td>\n",
       "      <td>None</td>\n",
       "      <td>None</td>\n",
       "      <td>True</td>\n",
       "      <td>105</td>\n",
       "    </tr>\n",
       "  </tbody>\n",
       "</table>"
      ],
      "text/plain": [
       "Text(text='Berliini müür langes , kuid nüüd lahutab okastraat setosid , kuuleb välisminister Ilves setude tõde\\n\\nTOOMAS SILDAM , toomas.sildam@postimees.ee\\n\\nTäna nõuab Ain Sarv ( 51 ) välisminister Ilveselt aru , miks riik on setud unustanud , eile koputas ta erinevate firmade ustele , et küsida sponsorabi Põhjamaade rahvamuusika tudengite ja õppejõudude Viljandi kokkutulekule .\\nToomas Huik\\n\\nTäna saabub kauaoodatud küsimise tund , kui Seto Kongressi Vanemate Kogu peavanem Ain Sarv küsib välisminister Toomas Hendrik Ilveselt : “ Härra minister , kas olete valmis oma kodanike õigused jalge alla tallama , et Eesti saaks Schengeni viisaruumi ? ”\\n\\nLäbitungiva pilgu ja kaheharulise habemega Ain Sarv ( 51 ) ei küsi seda retooriliselt ajalehe arvamuskülje repliigis , vaid välisministri kabinetis , näost näkku kohtumisel .\\nIlves soostus Seto Kongressi Vanemate Kogu esinduse vastu võtma , sest suhted Toompea ja setude vahel on sama okkalised nagu sägadega traat , mille Vene piirivalve tõmbas seitse aastat tagasi piki Eesti NSV administratiivpiiri .\\n\\nNimekirjad , millega seitse ja pool tuhat setut kirikupühadel lihtsalt üle piiri Petseri poolele pääses , saadab valitsus paberihuntidele toiduks ning Eesti võimud nõustuvad euroametnikega , kes meilt kagupiiril tavalist viisarezhiimi nõuavad .\\n\\nHääletades Pihkvasse\\n\\nEsimest korda nägi 15-aastane Ain Setumaad läbi tiheda udu .\\nSuvel 1963 sõitis ta koolivaheajal õe juurest Elvast pöidlaküüdiga Riiga , sest seal müüdi pöördkondensaatorit - taskuraadio ehitamiseks vajalikku vidinat .\\nRiiast põrutas Ain “ häälega ” Pihkvasse , kuni hommikupoole ööd peatus Aini pöidlaviibutuse peale hele Pobeda .\\n\\n“ Riia-Pihkva kiviteel oli nii õudne udu , et juht ja mina keerasime aknad alla , pistsime pead välja ning vaatasime , kas ikka tee peal oleme .\\nTagant hakkasid järsku paistma võimsad tuled justkui oleks rong tulnud .\\nOli hoopis tugevate laternatega autobuss , mis meist nagu postist mööda põrutas .\\nPobeda juht võttis end selle stopptulede kiiluvette , nii jõudsime lõpuks Pihkvasse . ”\\n\\nPäevavalges sõitis Ain uuesti läbi Setumaa , Elva poole .\\nAga oskas üks Tallinna koolipoiss siis näha , et Petseri ümbrus ja sealsed inimesed on erilised ?\\n\\nAini silmad avanesid 1970. aasta tantsupeol .\\nEnne sattus Sarvede pere noorim poeg Henn lugema kuulutust , et orkester vajab torupillimängijaid .\\nEi Henn ega Ain polnud kordagi torupilli käes hoidnud , aga kaks lugu said selgeks ja tantsupeo rongkäigus plaksutasid tuhanded inimesed neile nagu elukutselistele rahvamuusikutele .\\n\\nAin üllatas siis tuttavaid , kui mõistis Värska tantsumemmede setukeelset juttu , sest Mehkamaal sündinud isa oli pojale õpetanud võro keelt ja Mulgimaalt pärit vanaema mulkide murdesõnu .\\nVärska memmed kutsusid Aini koos torupilliansambli juhi Igor Tõnuristiga külla ning nii nad seisidki 70nda soojal suvel kahekesi setude lauluringis .\\nVoolas veel veidi vett Pihkva järve ja Ain istus juba setude ühe esilauliku Veera Pähnapuu kõrval pingil , üle Põrste küla madalate majade kaikus : “ Laul läts läbi Setomaa , hõpõhelme helinäl . ”\\n\\nDetsembris 1970 loodud rahvakunstiansamblis Leegajus laulis Ain setude lugusid Igor Tõnuristi juhatuse all hiljem kümneid , kui mitte sadu kordi .\\nSetumaa oli avastatud !\\n\\n“ Meeldis mulle see seto tüdruk , oi , kuidas meeldis , ” tunneb Ain tänini mõnusalt sooja kriipivat käppa südame lähedal , meenutades esimest kohtumist Piibarite ansambli Õiega .\\n“ Tema kaudu ma selle rahva hulka pääsesingi . ”\\n\\nÕie tädi Anne ja tädimees Peeter elasid Petserimaal Pööni külas , aga siis enam teid nende talu juurde talviti lahti ei aetud , Anne-Peeter müüsid vana majapidamise ja ostsid uue Rissova külla , päris Petseri-Irboska tee äärde , kuni Peeter suri .\\nKahe aasta eest kolis Anne venna juurde Eestisse , Oonurme .\\n\\n“ Elupäevi polnud tädi Annele aga palju antud .\\nTa suri koduigatsusest , sest kontrolljoon oli juba vahel ja meie ei saanud enam talle Rissovasse appi käia .\\nKui praegu tädi Anne vanast majast mööda sõidan , käänab hinge valust tagurpidi . ”\\n\\nAin ei ütle kordagi “ Vene poolel ” või “ lähme üle piiri ” .\\nTa räägib kontrolljoonest .\\n“ Setomaa on mulle tervik , okastraadiga lõhestatud tervik , ” jutlustab ta oma , Seto Kongressi Vanemate Kogu peavanema tõde .\\n\\nPalvekiri Maapäevale\\n\\nAga veel kümme aastat tagasi peatus Utsa järve ääres öine Pihkva kiirbuss , kui Ain ja Õie seisid tee ääres , suur valge silt sõnaga “ Tallinn ” laiali tõmmatud .\\nPetserist ja Pihkvast sõelusid liinibussid Tartusse , Võrru , Põlvasse isegi majanduspiiri algusajal , piibitades Andrus Ööveli sinivormiliste piirikaitsjate esimeste soojakute kohal .\\n“ Veel 1993. aastal käis üks poiss sealtpoolt kontrolljoont Eesti koolis , kuigi pidi juba okastraadi alt läbi pugema , ” mäletab Ain aega , kui piir Setumaa lõplikult pooleks lõikas .\\n\\n“ Berliini müür langes , aga Setomaale ehitati samasugune üles , ” muutub Aini hääl metalseks .\\n“ See on nagu Molotovi-Ribbentropi pakti salaprotokoll : ühed Tallinnas ja teised Moskvas otsustasid , et Setomaa keskele ehitatakse müür , setodelt ei küsinud aga keegi . ”\\n\\nJuba kevadel 1917 saatsid Petseri linna ja valdade elanikud palvekirja Maapäevale , et Eesti võim nad enda alla võtaks , alustab Ain giidi häälel ajaloolist ekskursiooni .\\nJah , see oli nii , aga kas ta mõistab , et Setumaa ei saa enam kunagi üheks ?\\n\\n“ Mina usun , et saab , ” lükkab Ain tühjakssaanud kohvitassi järsult eemale .\\n“ Kõik impeeriumid pole veel lagunenud . ”\\n\\nTallinlastena pole tema ja Õie kunagi lihtsustatud piiriületajate nimekirjades olnud , kord said küll Seto Kongressi Vanemate Kogu liikmetena tasuta aastase viisa , nüüd peavad sissepääsu Petserimaale ikka enda raha eest ostma .\\nViimati jätsid 1300 krooni Venemaa saatkonda päris jaanuari alguses , kui sõitsid kaheks päevaks Petseri Eesti keskkooli , setude jõulupeole .\\nKakssada inimest siit- ja sealtpoolt piiri rääkisid ilusas setu keeles , koor laulis , järjepanu astusid pillimehed üles .\\n\\n“ Üks aastane viisa maksab 4000 krooni .\\nKes seda jõuab osta , et sugulaste juures , kirikus või omaste haudadel käia , kui nimekirjadega enam üle ei pääse ? ” küsib Ain karmil toonil , kuigi kohvikus ei istu ühtegi poliitikut või kõrget riigiametnikku .\\n“ Eestil on kohustus oma kodanike eest seista ja Tartu rahulepingu järgi on Petserimaa Eesti osa , ” laksab Aini käsi lauale .\\n\\nTeist tõde pole talle antud .')"
      ]
     },
     "execution_count": 2,
     "metadata": {},
     "output_type": "execute_result"
    }
   ],
   "source": [
    "# Browse document and available layers\n",
    "text"
   ]
  },
  {
   "cell_type": "code",
   "execution_count": 3,
   "metadata": {},
   "outputs": [],
   "source": [
    "# Create new NerDiffFinder corresponding to comparable layers\n",
    "from ner_diff_utils import NerDiffFinder\n",
    "\n",
    "ner_diff_finder = NerDiffFinder('old_named_entities', \n",
    "                                'new_named_entities', \n",
    "                                old_layer_attr='nertag', \n",
    "                                new_layer_attr='nertag')"
   ]
  },
  {
   "cell_type": "markdown",
   "metadata": {},
   "source": [
    "Now, we can use `NerDiffFinder`'s method `find_difference` for finding differences between two layers. \n",
    "The method requies two arguments: `Text` containing comparable NE layers and the name of the document/file:"
   ]
  },
  {
   "cell_type": "code",
   "execution_count": 4,
   "metadata": {},
   "outputs": [],
   "source": [
    "# Find difference\n",
    "diff_layer, formatted_diffs_str, total_diff_gaps = ner_diff_finder.find_difference( text, 'xample_aja_pm_2000_01_26.tasak_053.json' )"
   ]
  },
  {
   "cell_type": "markdown",
   "metadata": {},
   "source": [
    "As a result, you'll get a tuple containing: \n",
    "\n",
    "  * `diff_layer` -- the layer of differences between old layer and new layer (created by [DiffTagger](https://github.com/estnltk/estnltk/blob/69ceca17cc2dda9d4a3dca2df7c7b88d0877d1c2/tutorials/taggers/diff_tagger.ipynb)):\n",
    "  * `formatted_diffs_str` -- output string showing grouped differences in their respective contexts;\n",
    "  * `total_diff_gaps` -- total number of grouped differences (integer);"
   ]
  },
  {
   "cell_type": "code",
   "execution_count": 5,
   "metadata": {},
   "outputs": [
    {
     "name": "stdout",
     "output_type": "stream",
     "text": [
      "=====================================================================================\n",
      "\n",
      "  xample_aja_pm_2000_01_26.tasak_053.json::0\n",
      "\n",
      " old_named_entities_flat   ... näost näkku kohtumisel .\\nIlves soostus Seto Kongressi Vanemate Kogu esinduse vastu ...\n",
      " new_named_entities_flat   ... näost näkku kohtumisel .\\nIlves soostus {Seto} /LOC Kongressi Vanemate Kogu esinduse vastu ...\n",
      "\n",
      "=====================================================================================\n",
      "\n",
      "  xample_aja_pm_2000_01_26.tasak_053.json::1\n",
      "\n",
      " old_named_entities_flat   ... orkester vajab torupillimängijaid .\\nEi {Henn} /PER ega Ain polnud kordagi torupilli käes h...\n",
      " new_named_entities_flat   ... orkester vajab torupillimängijaid .\\nEi Henn ega Ain polnud kordagi torupilli käes h...\n",
      "\n",
      "=====================================================================================\n",
      "\n",
      "  xample_aja_pm_2000_01_26.tasak_053.json::2\n",
      "\n",
      " old_named_entities_flat   ... müüsid vana majapidamise ja ostsid uue Rissova külla , päris Petseri-Irboska tee äärde , kun...\n",
      " new_named_entities_flat   ... müüsid vana majapidamise ja ostsid uue {Rissova külla} /LOC , päris Petseri-Irboska tee äärde , kun...\n",
      "\n",
      "=====================================================================================\n",
      "\n",
      "  xample_aja_pm_2000_01_26.tasak_053.json::3\n",
      "\n",
      " old_named_entities_flat   ...sse , Oonurme .\\n\\n“ Elupäevi polnud tädi {Annele} /LOC aga palju antud .\\nTa suri koduigatsuses...\n",
      " new_named_entities_flat   ...sse , Oonurme .\\n\\n“ Elupäevi polnud tädi {Annele} /PER aga palju antud .\\nTa suri koduigatsuses...\n",
      "\n",
      "=====================================================================================\n",
      "\n",
      "  xample_aja_pm_2000_01_26.tasak_053.json::4\n",
      "\n",
      " old_named_entities_flat   ... Rissovasse appi käia .\\nKui praegu tädi {Anne} /LOC vanast majast mööda sõidan , käänab hin...\n",
      " new_named_entities_flat   ... Rissovasse appi käia .\\nKui praegu tädi {Anne} /PER vanast majast mööda sõidan , käänab hin...\n",
      "\n",
      "=====================================================================================\n",
      "\n",
      "  xample_aja_pm_2000_01_26.tasak_053.json::5\n",
      "\n",
      " old_named_entities_flat   ...käis üks poiss sealtpoolt kontrolljoont {Eesti koolis} /ORG , kuigi pidi juba okastraadi alt läbi p...\n",
      " new_named_entities_flat   ...käis üks poiss sealtpoolt kontrolljoont {Eesti} /LOC koolis , kuigi pidi juba okastraadi alt...\n",
      "\n",
      "=====================================================================================\n",
      "\n",
      "  xample_aja_pm_2000_01_26.tasak_053.json::6\n",
      "\n",
      " old_named_entities_flat   ...ate nimekirjades olnud , kord said küll {Seto Kongressi} /ORG Vanemate Kogu liikmetena tasuta aastase...\n",
      " new_named_entities_flat   ...ate nimekirjades olnud , kord said küll {Seto Kongressi Vanemate} /ORG Kogu liikmetena tasuta aastase viisa , ...\n",
      "\n",
      "\n"
     ]
    }
   ],
   "source": [
    "# Examine gruped differences\n",
    "print(formatted_diffs_str)"
   ]
  }
 ],
 "metadata": {
  "kernelspec": {
   "display_name": "Python 3",
   "language": "python",
   "name": "python3"
  },
  "language_info": {
   "codemirror_mode": {
    "name": "ipython",
    "version": 3
   },
   "file_extension": ".py",
   "mimetype": "text/x-python",
   "name": "python",
   "nbconvert_exporter": "python",
   "pygments_lexer": "ipython3",
   "version": "3.6.10"
  }
 },
 "nbformat": 4,
 "nbformat_minor": 4
}
